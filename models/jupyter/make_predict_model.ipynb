{
  "nbformat": 4,
  "nbformat_minor": 0,
  "metadata": {
    "colab": {
      "provenance": []
    },
    "kernelspec": {
      "name": "python3",
      "display_name": "Python 3"
    },
    "language_info": {
      "name": "python"
    }
  },
  "cells": [
    {
      "cell_type": "code",
      "execution_count": 3,
      "metadata": {
        "id": "HYmjaxKDE8dn",
        "colab": {
          "base_uri": "https://localhost:8080/"
        },
        "outputId": "1204fda2-ec1a-4ce4-b860-30f98f9ebb3a"
      },
      "outputs": [
        {
          "output_type": "stream",
          "name": "stdout",
          "text": [
            "Requirement already satisfied: transformers in /usr/local/lib/python3.10/dist-packages (4.46.2)\n",
            "Requirement already satisfied: filelock in /usr/local/lib/python3.10/dist-packages (from transformers) (3.16.1)\n",
            "Requirement already satisfied: huggingface-hub<1.0,>=0.23.2 in /usr/local/lib/python3.10/dist-packages (from transformers) (0.26.2)\n",
            "Requirement already satisfied: numpy>=1.17 in /usr/local/lib/python3.10/dist-packages (from transformers) (1.26.4)\n",
            "Requirement already satisfied: packaging>=20.0 in /usr/local/lib/python3.10/dist-packages (from transformers) (24.2)\n",
            "Requirement already satisfied: pyyaml>=5.1 in /usr/local/lib/python3.10/dist-packages (from transformers) (6.0.2)\n",
            "Requirement already satisfied: regex!=2019.12.17 in /usr/local/lib/python3.10/dist-packages (from transformers) (2024.9.11)\n",
            "Requirement already satisfied: requests in /usr/local/lib/python3.10/dist-packages (from transformers) (2.32.3)\n",
            "Requirement already satisfied: safetensors>=0.4.1 in /usr/local/lib/python3.10/dist-packages (from transformers) (0.4.5)\n",
            "Requirement already satisfied: tokenizers<0.21,>=0.20 in /usr/local/lib/python3.10/dist-packages (from transformers) (0.20.3)\n",
            "Requirement already satisfied: tqdm>=4.27 in /usr/local/lib/python3.10/dist-packages (from transformers) (4.66.6)\n",
            "Requirement already satisfied: fsspec>=2023.5.0 in /usr/local/lib/python3.10/dist-packages (from huggingface-hub<1.0,>=0.23.2->transformers) (2024.10.0)\n",
            "Requirement already satisfied: typing-extensions>=3.7.4.3 in /usr/local/lib/python3.10/dist-packages (from huggingface-hub<1.0,>=0.23.2->transformers) (4.12.2)\n",
            "Requirement already satisfied: charset-normalizer<4,>=2 in /usr/local/lib/python3.10/dist-packages (from requests->transformers) (3.4.0)\n",
            "Requirement already satisfied: idna<4,>=2.5 in /usr/local/lib/python3.10/dist-packages (from requests->transformers) (3.10)\n",
            "Requirement already satisfied: urllib3<3,>=1.21.1 in /usr/local/lib/python3.10/dist-packages (from requests->transformers) (2.2.3)\n",
            "Requirement already satisfied: certifi>=2017.4.17 in /usr/local/lib/python3.10/dist-packages (from requests->transformers) (2024.8.30)\n",
            "Requirement already satisfied: torch in /usr/local/lib/python3.10/dist-packages (2.5.1+cu121)\n",
            "Requirement already satisfied: filelock in /usr/local/lib/python3.10/dist-packages (from torch) (3.16.1)\n",
            "Requirement already satisfied: typing-extensions>=4.8.0 in /usr/local/lib/python3.10/dist-packages (from torch) (4.12.2)\n",
            "Requirement already satisfied: networkx in /usr/local/lib/python3.10/dist-packages (from torch) (3.4.2)\n",
            "Requirement already satisfied: jinja2 in /usr/local/lib/python3.10/dist-packages (from torch) (3.1.4)\n",
            "Requirement already satisfied: fsspec in /usr/local/lib/python3.10/dist-packages (from torch) (2024.10.0)\n",
            "Requirement already satisfied: sympy==1.13.1 in /usr/local/lib/python3.10/dist-packages (from torch) (1.13.1)\n",
            "Requirement already satisfied: mpmath<1.4,>=1.1.0 in /usr/local/lib/python3.10/dist-packages (from sympy==1.13.1->torch) (1.3.0)\n",
            "Requirement already satisfied: MarkupSafe>=2.0 in /usr/local/lib/python3.10/dist-packages (from jinja2->torch) (3.0.2)\n",
            "Requirement already satisfied: pandas in /usr/local/lib/python3.10/dist-packages (2.2.2)\n",
            "Requirement already satisfied: numpy>=1.22.4 in /usr/local/lib/python3.10/dist-packages (from pandas) (1.26.4)\n",
            "Requirement already satisfied: python-dateutil>=2.8.2 in /usr/local/lib/python3.10/dist-packages (from pandas) (2.8.2)\n",
            "Requirement already satisfied: pytz>=2020.1 in /usr/local/lib/python3.10/dist-packages (from pandas) (2024.2)\n",
            "Requirement already satisfied: tzdata>=2022.7 in /usr/local/lib/python3.10/dist-packages (from pandas) (2024.2)\n",
            "Requirement already satisfied: six>=1.5 in /usr/local/lib/python3.10/dist-packages (from python-dateutil>=2.8.2->pandas) (1.16.0)\n",
            "Requirement already satisfied: tqdm in /usr/local/lib/python3.10/dist-packages (4.66.6)\n",
            "Requirement already satisfied: yfinance in /usr/local/lib/python3.10/dist-packages (0.2.49)\n",
            "Requirement already satisfied: pandas>=1.3.0 in /usr/local/lib/python3.10/dist-packages (from yfinance) (2.2.2)\n",
            "Requirement already satisfied: numpy>=1.16.5 in /usr/local/lib/python3.10/dist-packages (from yfinance) (1.26.4)\n",
            "Requirement already satisfied: requests>=2.31 in /usr/local/lib/python3.10/dist-packages (from yfinance) (2.32.3)\n",
            "Requirement already satisfied: multitasking>=0.0.7 in /usr/local/lib/python3.10/dist-packages (from yfinance) (0.0.11)\n",
            "Requirement already satisfied: lxml>=4.9.1 in /usr/local/lib/python3.10/dist-packages (from yfinance) (5.3.0)\n",
            "Requirement already satisfied: platformdirs>=2.0.0 in /usr/local/lib/python3.10/dist-packages (from yfinance) (4.3.6)\n",
            "Requirement already satisfied: pytz>=2022.5 in /usr/local/lib/python3.10/dist-packages (from yfinance) (2024.2)\n",
            "Requirement already satisfied: frozendict>=2.3.4 in /usr/local/lib/python3.10/dist-packages (from yfinance) (2.4.6)\n",
            "Requirement already satisfied: peewee>=3.16.2 in /usr/local/lib/python3.10/dist-packages (from yfinance) (3.17.8)\n",
            "Requirement already satisfied: beautifulsoup4>=4.11.1 in /usr/local/lib/python3.10/dist-packages (from yfinance) (4.12.3)\n",
            "Requirement already satisfied: html5lib>=1.1 in /usr/local/lib/python3.10/dist-packages (from yfinance) (1.1)\n",
            "Requirement already satisfied: soupsieve>1.2 in /usr/local/lib/python3.10/dist-packages (from beautifulsoup4>=4.11.1->yfinance) (2.6)\n",
            "Requirement already satisfied: six>=1.9 in /usr/local/lib/python3.10/dist-packages (from html5lib>=1.1->yfinance) (1.16.0)\n",
            "Requirement already satisfied: webencodings in /usr/local/lib/python3.10/dist-packages (from html5lib>=1.1->yfinance) (0.5.1)\n",
            "Requirement already satisfied: python-dateutil>=2.8.2 in /usr/local/lib/python3.10/dist-packages (from pandas>=1.3.0->yfinance) (2.8.2)\n",
            "Requirement already satisfied: tzdata>=2022.7 in /usr/local/lib/python3.10/dist-packages (from pandas>=1.3.0->yfinance) (2024.2)\n",
            "Requirement already satisfied: charset-normalizer<4,>=2 in /usr/local/lib/python3.10/dist-packages (from requests>=2.31->yfinance) (3.4.0)\n",
            "Requirement already satisfied: idna<4,>=2.5 in /usr/local/lib/python3.10/dist-packages (from requests>=2.31->yfinance) (3.10)\n",
            "Requirement already satisfied: urllib3<3,>=1.21.1 in /usr/local/lib/python3.10/dist-packages (from requests>=2.31->yfinance) (2.2.3)\n",
            "Requirement already satisfied: certifi>=2017.4.17 in /usr/local/lib/python3.10/dist-packages (from requests>=2.31->yfinance) (2024.8.30)\n",
            "Requirement already satisfied: wordcloud in /usr/local/lib/python3.10/dist-packages (1.9.4)\n",
            "Requirement already satisfied: numpy>=1.6.1 in /usr/local/lib/python3.10/dist-packages (from wordcloud) (1.26.4)\n",
            "Requirement already satisfied: pillow in /usr/local/lib/python3.10/dist-packages (from wordcloud) (11.0.0)\n",
            "Requirement already satisfied: matplotlib in /usr/local/lib/python3.10/dist-packages (from wordcloud) (3.8.0)\n",
            "Requirement already satisfied: contourpy>=1.0.1 in /usr/local/lib/python3.10/dist-packages (from matplotlib->wordcloud) (1.3.1)\n",
            "Requirement already satisfied: cycler>=0.10 in /usr/local/lib/python3.10/dist-packages (from matplotlib->wordcloud) (0.12.1)\n",
            "Requirement already satisfied: fonttools>=4.22.0 in /usr/local/lib/python3.10/dist-packages (from matplotlib->wordcloud) (4.55.0)\n",
            "Requirement already satisfied: kiwisolver>=1.0.1 in /usr/local/lib/python3.10/dist-packages (from matplotlib->wordcloud) (1.4.7)\n",
            "Requirement already satisfied: packaging>=20.0 in /usr/local/lib/python3.10/dist-packages (from matplotlib->wordcloud) (24.2)\n",
            "Requirement already satisfied: pyparsing>=2.3.1 in /usr/local/lib/python3.10/dist-packages (from matplotlib->wordcloud) (3.2.0)\n",
            "Requirement already satisfied: python-dateutil>=2.7 in /usr/local/lib/python3.10/dist-packages (from matplotlib->wordcloud) (2.8.2)\n",
            "Requirement already satisfied: six>=1.5 in /usr/local/lib/python3.10/dist-packages (from python-dateutil>=2.7->matplotlib->wordcloud) (1.16.0)\n",
            "Collecting dash\n",
            "  Downloading dash-2.18.2-py3-none-any.whl.metadata (10 kB)\n",
            "Requirement already satisfied: Flask<3.1,>=1.0.4 in /usr/local/lib/python3.10/dist-packages (from dash) (3.0.3)\n",
            "Collecting Werkzeug<3.1 (from dash)\n",
            "  Downloading werkzeug-3.0.6-py3-none-any.whl.metadata (3.7 kB)\n",
            "Requirement already satisfied: plotly>=5.0.0 in /usr/local/lib/python3.10/dist-packages (from dash) (5.24.1)\n",
            "Collecting dash-html-components==2.0.0 (from dash)\n",
            "  Downloading dash_html_components-2.0.0-py3-none-any.whl.metadata (3.8 kB)\n",
            "Collecting dash-core-components==2.0.0 (from dash)\n",
            "  Downloading dash_core_components-2.0.0-py3-none-any.whl.metadata (2.9 kB)\n",
            "Collecting dash-table==5.0.0 (from dash)\n",
            "  Downloading dash_table-5.0.0-py3-none-any.whl.metadata (2.4 kB)\n",
            "Requirement already satisfied: importlib-metadata in /usr/local/lib/python3.10/dist-packages (from dash) (8.5.0)\n",
            "Requirement already satisfied: typing-extensions>=4.1.1 in /usr/local/lib/python3.10/dist-packages (from dash) (4.12.2)\n",
            "Requirement already satisfied: requests in /usr/local/lib/python3.10/dist-packages (from dash) (2.32.3)\n",
            "Collecting retrying (from dash)\n",
            "  Downloading retrying-1.3.4-py3-none-any.whl.metadata (6.9 kB)\n",
            "Requirement already satisfied: nest-asyncio in /usr/local/lib/python3.10/dist-packages (from dash) (1.6.0)\n",
            "Requirement already satisfied: setuptools in /usr/local/lib/python3.10/dist-packages (from dash) (75.1.0)\n",
            "Requirement already satisfied: Jinja2>=3.1.2 in /usr/local/lib/python3.10/dist-packages (from Flask<3.1,>=1.0.4->dash) (3.1.4)\n",
            "Requirement already satisfied: itsdangerous>=2.1.2 in /usr/local/lib/python3.10/dist-packages (from Flask<3.1,>=1.0.4->dash) (2.2.0)\n",
            "Requirement already satisfied: click>=8.1.3 in /usr/local/lib/python3.10/dist-packages (from Flask<3.1,>=1.0.4->dash) (8.1.7)\n",
            "Requirement already satisfied: blinker>=1.6.2 in /usr/local/lib/python3.10/dist-packages (from Flask<3.1,>=1.0.4->dash) (1.9.0)\n",
            "Requirement already satisfied: tenacity>=6.2.0 in /usr/local/lib/python3.10/dist-packages (from plotly>=5.0.0->dash) (9.0.0)\n",
            "Requirement already satisfied: packaging in /usr/local/lib/python3.10/dist-packages (from plotly>=5.0.0->dash) (24.2)\n",
            "Requirement already satisfied: MarkupSafe>=2.1.1 in /usr/local/lib/python3.10/dist-packages (from Werkzeug<3.1->dash) (3.0.2)\n",
            "Requirement already satisfied: zipp>=3.20 in /usr/local/lib/python3.10/dist-packages (from importlib-metadata->dash) (3.21.0)\n",
            "Requirement already satisfied: charset-normalizer<4,>=2 in /usr/local/lib/python3.10/dist-packages (from requests->dash) (3.4.0)\n",
            "Requirement already satisfied: idna<4,>=2.5 in /usr/local/lib/python3.10/dist-packages (from requests->dash) (3.10)\n",
            "Requirement already satisfied: urllib3<3,>=1.21.1 in /usr/local/lib/python3.10/dist-packages (from requests->dash) (2.2.3)\n",
            "Requirement already satisfied: certifi>=2017.4.17 in /usr/local/lib/python3.10/dist-packages (from requests->dash) (2024.8.30)\n",
            "Requirement already satisfied: six>=1.7.0 in /usr/local/lib/python3.10/dist-packages (from retrying->dash) (1.16.0)\n",
            "Downloading dash-2.18.2-py3-none-any.whl (7.8 MB)\n",
            "\u001b[2K   \u001b[90m━━━━━━━━━━━━━━━━━━━━━━━━━━━━━━━━━━━━━━━━\u001b[0m \u001b[32m7.8/7.8 MB\u001b[0m \u001b[31m38.1 MB/s\u001b[0m eta \u001b[36m0:00:00\u001b[0m\n",
            "\u001b[?25hDownloading dash_core_components-2.0.0-py3-none-any.whl (3.8 kB)\n",
            "Downloading dash_html_components-2.0.0-py3-none-any.whl (4.1 kB)\n",
            "Downloading dash_table-5.0.0-py3-none-any.whl (3.9 kB)\n",
            "Downloading werkzeug-3.0.6-py3-none-any.whl (227 kB)\n",
            "\u001b[2K   \u001b[90m━━━━━━━━━━━━━━━━━━━━━━━━━━━━━━━━━━━━━━━━\u001b[0m \u001b[32m228.0/228.0 kB\u001b[0m \u001b[31m15.6 MB/s\u001b[0m eta \u001b[36m0:00:00\u001b[0m\n",
            "\u001b[?25hDownloading retrying-1.3.4-py3-none-any.whl (11 kB)\n",
            "Installing collected packages: dash-table, dash-html-components, dash-core-components, Werkzeug, retrying, dash\n",
            "  Attempting uninstall: Werkzeug\n",
            "    Found existing installation: Werkzeug 3.1.3\n",
            "    Uninstalling Werkzeug-3.1.3:\n",
            "      Successfully uninstalled Werkzeug-3.1.3\n",
            "Successfully installed Werkzeug-3.0.6 dash-2.18.2 dash-core-components-2.0.0 dash-html-components-2.0.0 dash-table-5.0.0 retrying-1.3.4\n"
          ]
        }
      ],
      "source": [
        "!pip install transformers\n",
        "!pip install torch\n",
        "!pip install pandas\n",
        "!pip install tqdm\n",
        "!pip install yfinance\n",
        "!pip install wordcloud\n",
        "!pip install dash"
      ]
    },
    {
      "cell_type": "code",
      "source": [
        "import numpy as np\n",
        "import pandas as pd\n",
        "import xgboost as xgb\n",
        "import seaborn as sns\n",
        "import plotly.express as px4\n",
        "from dash import dcc, html\n",
        "from datetime import timedelta\n",
        "from google.colab import drive\n",
        "import matplotlib.pyplot as plt\n",
        "import matplotlib.dates as mdates\n",
        "from sklearn.model_selection import train_test_split, GridSearchCV\n",
        "from sklearn.metrics import accuracy_score, classification_report, confusion_matrix, mean_squared_error, mean_absolute_error, r2_score"
      ],
      "metadata": {
        "id": "AiYDoloFfRVi"
      },
      "execution_count": 4,
      "outputs": []
    },
    {
      "cell_type": "markdown",
      "source": [
        "**구글 드라이브 연결**"
      ],
      "metadata": {
        "id": "3Qwys-RxPX25"
      }
    },
    {
      "cell_type": "code",
      "source": [
        "drive.mount('/content/drive')"
      ],
      "metadata": {
        "colab": {
          "base_uri": "https://localhost:8080/"
        },
        "id": "eQT6LP3ePSoT",
        "outputId": "bdae18c8-6760-4fa7-e6af-f7d9133084a4"
      },
      "execution_count": 5,
      "outputs": [
        {
          "output_type": "stream",
          "name": "stdout",
          "text": [
            "Mounted at /content/drive\n"
          ]
        }
      ]
    },
    {
      "cell_type": "markdown",
      "source": [
        "**데이터 불러오기**"
      ],
      "metadata": {
        "id": "5fv-bpilOyB5"
      }
    },
    {
      "cell_type": "code",
      "source": [
        "sentiment_df = pd.read_csv('/content/drive/MyDrive/StockGeine/datasets/한화오션_aggregated.csv')\n",
        "stock_df = pd.read_csv('/content/drive/MyDrive/StockGeine/stock/한화오션_stock_dataset.csv')\n",
        "\n",
        "sentiment_df['publish_date'] = pd.to_datetime(sentiment_df['publish_date'])\n",
        "stock_df['Date'] = pd.to_datetime(stock_df['Date'], utc=True).dt.date\n",
        "sentiment_df['publish_date'] = sentiment_df['publish_date'].dt.date\n",
        "\n",
        "sentiment_df.rename(columns={'publish_date': 'Date'}, inplace=True)\n",
        "data = pd.merge(stock_df, sentiment_df, on='Date', how='inner')\n",
        "data['Date'] = pd.to_datetime(data['Date']).dt.date\n",
        "\n",
        "print()\n",
        "print()\n",
        "print(\"Merged DataFrame Head\")\n",
        "print(data.head())"
      ],
      "metadata": {
        "colab": {
          "base_uri": "https://localhost:8080/"
        },
        "id": "NufQJ10HIFjH",
        "outputId": "8b128067-7085-435b-9b11-bc0c2913d0ac"
      },
      "execution_count": 10,
      "outputs": [
        {
          "output_type": "stream",
          "name": "stdout",
          "text": [
            "\n",
            "\n",
            "Merged DataFrame Head\n",
            "         Date     Open     High      Low    Close    Volume  Dividends  \\\n",
            "0  2024-10-30  27350.0  27450.0  26350.0  26750.0   1302949        0.0   \n",
            "1  2024-11-10  37550.0  39350.0  36650.0  37300.0  12098563        0.0   \n",
            "2  2024-11-11  37550.0  39200.0  36000.0  36800.0  11247222        0.0   \n",
            "3  2024-11-12  37900.0  37900.0  33650.0  33800.0  12598160        0.0   \n",
            "4  2024-11-13  33950.0  39450.0  33900.0  39200.0  19865082        0.0   \n",
            "\n",
            "   Stock Splits  positive   neutral  negative     total  \n",
            "0           0.0  0.200643  0.000295  0.799062  negative  \n",
            "1           0.0  0.422296  0.159910  0.417795  positive  \n",
            "2           0.0  0.175524  0.002197  0.822280  negative  \n",
            "3           0.0  0.094318  0.037512  0.868170  negative  \n",
            "4           0.0  0.066369  0.064252  0.869380  negative  \n"
          ]
        }
      ]
    },
    {
      "cell_type": "markdown",
      "source": [
        "### 데이터 전처리\n",
        "불필요한 데이터 제거"
      ],
      "metadata": {
        "id": "Df8ziD2_Xj2z"
      }
    },
    {
      "cell_type": "code",
      "source": [
        "data.drop(['Dividends', 'Stock Splits', 'total'], axis=1, inplace=True)\n",
        "\n",
        "print(\"\\nMissing values in each column:\")\n",
        "print(data.isnull().sum())"
      ],
      "metadata": {
        "id": "HZZBlFDRXje0",
        "colab": {
          "base_uri": "https://localhost:8080/"
        },
        "outputId": "cea52906-49d2-4d54-cce2-079e716229e7"
      },
      "execution_count": 11,
      "outputs": [
        {
          "output_type": "stream",
          "name": "stdout",
          "text": [
            "\n",
            "Missing values in each column:\n",
            "Date        0\n",
            "Open        0\n",
            "High        0\n",
            "Low         0\n",
            "Close       0\n",
            "Volume      0\n",
            "positive    0\n",
            "neutral     0\n",
            "negative    0\n",
            "dtype: int64\n"
          ]
        }
      ]
    },
    {
      "cell_type": "markdown",
      "source": [
        "**결측값 확인 및 처리**"
      ],
      "metadata": {
        "id": "MoeEyvCvXpb3"
      }
    },
    {
      "cell_type": "markdown",
      "source": [
        "### 특징 생성, 데이터 분할\n",
        "**positive, neutral, negative 점수를 활용하여 종합적인 감성 점수를 생성**"
      ],
      "metadata": {
        "id": "Li6yIxnrX28f"
      }
    },
    {
      "cell_type": "code",
      "source": [
        "data['sentiment_score'] = data['positive'] - data['negative']\n",
        "\n",
        "## 중립점수를 가중치로 사용 - 국내만 적용\n",
        "data['sentiment_score'] = data['sentiment_score'] * (1 - data['neutral'])\n"
      ],
      "metadata": {
        "id": "u0yXiUNzX2TJ"
      },
      "execution_count": 12,
      "outputs": []
    },
    {
      "cell_type": "markdown",
      "source": [
        "**다음 날의 종가를 예측 대상으로 설정**"
      ],
      "metadata": {
        "id": "BRe0zQBpZg8t"
      }
    },
    {
      "cell_type": "code",
      "source": [
        "# 다음 날 종가 생성\n",
        "data['Next_Close'] = data['Close'].shift(-1)\n",
        "\n",
        "data = data[:-1]\n",
        "features = ['Open', 'High', 'Low', 'Close', 'Volume', 'sentiment_score']\n",
        "X = data[features]\n",
        "\n",
        "\n",
        "y = data['Next_Close']\n",
        "\n",
        "# 데이터 분할 (80% 학습, 20% 테스트)\n",
        "X_train, X_test, y_train, y_test = train_test_split(X, y, test_size=0.2, shuffle=False)"
      ],
      "metadata": {
        "id": "2_Pe4d2-Zf5e"
      },
      "execution_count": 13,
      "outputs": []
    },
    {
      "cell_type": "markdown",
      "source": [
        "### 모델 학습\n",
        "**XGBoost 모델 생성 및 학습**\n",
        "\n",
        "objective를 회귀 문제에 맞게 'reg:squarederror'로 설정합니다.\n",
        "eval_metric으로 RMSE를 사용"
      ],
      "metadata": {
        "id": "CjuHd8ybZv2E"
      }
    },
    {
      "cell_type": "code",
      "source": [
        "# XGBoost 회귀 모델 생성\n",
        "xgb_reg = xgb.XGBRegressor(objective='reg:squarederror')\n",
        "\n",
        "# 하이퍼파라미터 그리드 설정\n",
        "param_grid = {\n",
        "    'max_depth': [3, 5, 7],\n",
        "    'eta': [0.01, 0.1, 0.2],\n",
        "    'n_estimators': [100, 200, 300]\n",
        "}\n",
        "\n",
        "# GridSearchCV 수행\n",
        "grid_search = GridSearchCV(estimator=xgb_reg, param_grid=param_grid, cv=3, scoring='neg_mean_squared_error', n_jobs=-1)\n",
        "grid_search.fit(X_train, y_train)\n",
        "\n",
        "# 최적의 하이퍼파라미터 출력\n",
        "best_params = grid_search.best_params_\n",
        "print(\"Best parameters found: \", grid_search.best_params_)\n",
        "\n",
        "\n",
        "# DMatrix 생성 (XGBoost 전용 데이터 구조)\n",
        "dtrain = xgb.DMatrix(X_train, label=y_train)\n",
        "dtest = xgb.DMatrix(X_test, label=y_test)\n",
        "\n",
        "# 하이퍼파라미터 설정\n",
        "params = {\n",
        "    'max_depth': 5,\n",
        "    'eta': 0.1,\n",
        "    'objective': 'reg:squarederror',  # 회귀 문제이므로 reg:squarederror 사용\n",
        "    'eval_metric': 'rmse'\n",
        "}\n",
        "\n",
        "# 모델 학습\n",
        "num_rounds = best_params['n_estimators']  # 최적의 n_estimators 설정\n",
        "model = xgb.train(params, dtrain, num_rounds)\n",
        "\n",
        "\n",
        "# 테스트 세트 예측\n",
        "y_pred = model.predict(dtest)\n"
      ],
      "metadata": {
        "id": "ZwGtXm9LZvdL",
        "colab": {
          "base_uri": "https://localhost:8080/"
        },
        "outputId": "2c086be8-6603-4045-96b1-e382da9e7c69"
      },
      "execution_count": 14,
      "outputs": [
        {
          "output_type": "stream",
          "name": "stdout",
          "text": [
            "Best parameters found:  {'eta': 0.01, 'max_depth': 3, 'n_estimators': 100}\n"
          ]
        }
      ]
    },
    {
      "cell_type": "markdown",
      "source": [
        "**모델 성능 테스트**"
      ],
      "metadata": {
        "id": "5oeU8CMZdqof"
      }
    },
    {
      "cell_type": "code",
      "source": [
        "dates = data['Date'].iloc[y_train.shape[0]:].reset_index(drop=True) # 날짜만 가져옴\n",
        "\n",
        "# 결과 데이터프레임 생성\n",
        "results = pd.DataFrame({'Date': dates, 'Actual': y_test.reset_index(drop=True), 'Predicted': y_pred})\n",
        "\n",
        "# 'Date' 열을 datetime 형식으로 변환\n",
        "results['Date'] = pd.to_datetime(results['Date'])\n",
        "results.set_index('Date', inplace=True)\n",
        "\n",
        "\n",
        "######################## 날짜 기준 그래프 시각화\n",
        "plt.figure(figsize=(14, 5))\n",
        "plt.plot(results['Actual'], label='Actual', marker='o')\n",
        "plt.plot(results['Predicted'], label='Predicted', marker='x')\n",
        "plt.title('Actual vs Predicted Stock Prices (Daily)')\n",
        "plt.xlabel('Date')\n",
        "plt.ylabel('Stock Price')\n",
        "\n",
        "\n",
        "plt.xticks(results.index)  # 결과 데이터프레임의 인덱스를 x축 틱으로 설정\n",
        "plt.gca().xaxis.set_major_formatter(mdates.DateFormatter('%Y-%m-%d'))  # 날짜 포맷 지정\n",
        "\n",
        "plt.legend()\n",
        "plt.grid()\n",
        "plt.show()\n",
        "######################## 히스토그램으로 오차 분포 시각화\n",
        "errors = y_test.values - y_pred\n",
        "\n",
        "plt.figure(figsize=(10, 6))\n",
        "sns.histplot(errors, bins=30, kde=True)\n",
        "plt.title('Distribution of Prediction Errors')\n",
        "plt.xlabel('Prediction Error')\n",
        "plt.ylabel('Frequency')\n",
        "\n",
        "plt.show()\n",
        "######################## 특징 중요도 가져오기\n",
        "xgb.plot_importance(model, height=0.8)\n",
        "plt.title('Feature Importance')\n",
        "\n",
        "plt.show()\n",
        "\n",
        "######################## 성능 평가\n",
        "# RMSE 계산\n",
        "rmse = np.sqrt(mean_squared_error(y_test, y_pred))\n",
        "print(f\"RMSE: {rmse:.2f}\")\n",
        "\n",
        "# MAE 계산\n",
        "mae = mean_absolute_error(y_test, y_pred)\n",
        "print(f\"MAE: {mae:.2f}\")\n",
        "\n",
        "# R² 스코어 계산\n",
        "r2 = r2_score(y_test, y_pred)\n",
        "print(f\"R² Score: {r2:.2f}\")\n",
        "print()\n",
        "\n",
        "# 테스트 데이터에서 이전 날의 종가 가져오기\n",
        "# 수정: y_test와 길이를 맞추기 위해 동일한 시작 인덱스를 사용\n",
        "previous_close = data['Close'].iloc[-y_test.shape[0]-1:-1].reset_index(drop=True)\n",
        "\n",
        "# 실제 방향성 계산 (다음 날 종가 - 이전 날 종가)\n",
        "actual_direction = y_test.reset_index(drop=True) - previous_close\n",
        "\n",
        "# 예측된 방향성 계산 (예측된 다음 날 종가 - 이전 날 종가)\n",
        "predicted_direction = y_pred - previous_close\n",
        "\n",
        "# 실제 방향성 이진화\n",
        "actual_movement = np.where(actual_direction > 0, 1, 0)\n",
        "\n",
        "# 예측된 방향성 이진화\n",
        "predicted_movement = np.where(predicted_direction > 0, 1, 0)\n",
        "\n",
        "# 정확도 계산\n",
        "accuracy = accuracy_score(actual_movement, predicted_movement)\n",
        "\n",
        "print(f\"\\n주가 방향성 예측 정확도: {accuracy * 100:.2f}%\")\n",
        "\n",
        "# 혼동 행렬\n",
        "conf_matrix = confusion_matrix(actual_movement, predicted_movement)\n",
        "print(\"\\n혼동 행렬:\")\n",
        "print(conf_matrix)\n",
        "\n",
        "# 분류 보고서\n",
        "class_report = classification_report(actual_movement, predicted_movement)\n",
        "print(\"\\n분류 보고서:\")\n",
        "print(class_report)\n",
        "\n",
        "# 결과 데이터프레임 생성\n",
        "res = pd.DataFrame({\n",
        "    'Date': dates,\n",
        "    'Previous_Close': previous_close,\n",
        "    'Actual_Next_Close': y_test.reset_index(drop=True),\n",
        "    'Predicted_Next_Close': y_pred,\n",
        "    'Actual_Movement': actual_movement,\n",
        "    'Predicted_Movement': predicted_movement\n",
        "})\n",
        "\n",
        "print(res)"
      ],
      "metadata": {
        "colab": {
          "base_uri": "https://localhost:8080/",
          "height": 1000
        },
        "id": "ylHiFcs5aK2B",
        "outputId": "3757ffd7-6818-40cb-c5b1-1f160e94555b"
      },
      "execution_count": 16,
      "outputs": [
        {
          "output_type": "display_data",
          "data": {
            "text/plain": [
              "<Figure size 1400x500 with 1 Axes>"
            ],
            "image/png": "[encoded data removed]"
          },
          "metadata": {}
        },
        {
          "output_type": "display_data",
          "data": {
            "text/plain": [
              "<Figure size 1000x600 with 1 Axes>"
            ],
            "image/png": "[encoded data removed]"
          },
          "metadata": {}
        },
        {
          "output_type": "display_data",
          "data": {
            "text/plain": [
              "<Figure size 640x480 with 1 Axes>"
            ],
            "image/png": "[encoded data removed]"
          },
          "metadata": {}
        },
        {
          "output_type": "stream",
          "name": "stdout",
          "text": [
            "RMSE: 1151.17\n",
            "MAE: 1150.00\n",
            "R² Score: -0.00\n",
            "\n",
            "\n",
            "주가 방향성 예측 정확도: 0.00%\n",
            "\n",
            "혼동 행렬:\n",
            "[[0 1]\n",
            " [1 0]]\n",
            "\n",
            "분류 보고서:\n",
            "              precision    recall  f1-score   support\n",
            "\n",
            "           0       0.00      0.00      0.00       1.0\n",
            "           1       0.00      0.00      0.00       1.0\n",
            "\n",
            "    accuracy                           0.00       2.0\n",
            "   macro avg       0.00      0.00      0.00       2.0\n",
            "weighted avg       0.00      0.00      0.00       2.0\n",
            "\n",
            "         Date  Previous_Close  Actual_Next_Close  Predicted_Next_Close  \\\n",
            "0  2024-11-19         37050.0            35850.0           37051.84375   \n",
            "1  2024-11-20         37550.0            38150.0           37051.84375   \n",
            "\n",
            "   Actual_Movement  Predicted_Movement  \n",
            "0                0                   1  \n",
            "1                1                   0  \n"
          ]
        }
      ]
    },
    {
      "cell_type": "code",
      "source": [
        "# 한국어\n",
        "model.save_model('kor_pr_model.json')\n",
        "\n",
        "# 영어\n",
        "# model.save_model('en_pr_model.json')"
      ],
      "metadata": {
        "id": "izCmVEc5wp8J"
      },
      "execution_count": 17,
      "outputs": []
    }
  ]
}